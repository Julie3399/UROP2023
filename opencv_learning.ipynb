{
 "cells": [
  {
   "cell_type": "code",
   "execution_count": 8,
   "metadata": {},
   "outputs": [],
   "source": [
    "# kernel = Python 3.11.4\n",
    "import cv2 as cv\n",
    "import torch\n",
    "import tensorflow as tf\n",
    "import numpy as np"
   ]
  },
  {
   "cell_type": "code",
   "execution_count": 7,
   "metadata": {},
   "outputs": [
    {
     "name": "stdout",
     "output_type": "stream",
     "text": [
      "4.8.0\n",
      "2.0.1\n",
      "2.13.0\n"
     ]
    }
   ],
   "source": [
    "# check version\n",
    "print(cv.__version__)\n",
    "print(torch.__version__)\n",
    "print(tf.__version__)"
   ]
  },
  {
   "attachments": {},
   "cell_type": "markdown",
   "metadata": {},
   "source": [
    "# Import Videos\n",
    "```python\n",
    "\n",
    "# can set the PATH to 0 for using webcam\n",
    "cap = cv.vediocapture(\"PATH\")\n",
    "# set the width and height\n",
    "cap.set(3, 640) # 3 is the id number\n",
    "cap.set(4, 480)\n",
    "# set the brightness\n",
    "cap.set(10, 100)\n",
    "\n",
    "while True:\n",
    "    success, img = cap.read()\n",
    "    cv.imshow(\"Video\", img)\n",
    "    # if q is pressed, break\n",
    "    # waitkey(1) is a delay to close the window for 1ms\n",
    "    if cv.waitKey(1) & 0xFF == ord('q'):\n",
    "        break\n",
    "\n",
    "```"
   ]
  },
  {
   "attachments": {},
   "cell_type": "markdown",
   "metadata": {},
   "source": [
    "# Basic Functions\n",
    "\n",
    "```python\n",
    "\n",
    "img = cv.imread(\"PATH\")\n",
    "kernel = np.ones((5, 5), np.uint8)\n",
    "\n",
    "# convert to gray scale\n",
    "imgGray = cv.cvtColor(img, cv.COLOR_BGR2GRAY)\n",
    "cv.imshow(\"Gray Image\", imgGray)\n",
    "\n",
    "# blur the image\n",
    "imgBlur = cv.GaussianBlur(imgGray, (7, 7), 0)\n",
    "cv.imshow(\"Blur Image\", imgBlur)\n",
    "\n",
    "# edge detector\n",
    "imgCanny = cv.Canny(img, 150, 200)\n",
    "cv.imshow(\"Canny Image\", imgCanny)\n",
    "\n",
    "# dilate the image\n",
    "# thickness of the edge\n",
    "kernel = np.ones((5, 5), np.uint8)\n",
    "imgDialation = cv.dilate(imgCanny, kernel, iterations=1)\n",
    "cv.imshow(\"Dialation Image\", imgDialation)\n",
    "\n",
    "# erode the image\n",
    "imgEroded = cv.erode(imgDialation, kernel, iterations=1)\n",
    "cv.imshow(\"Eroded Image\", imgEroded)\n",
    "\n",
    "# resize the image\n",
    "imgResize = cv.resize(img, (300, 200))\n",
    "cv.imshow(\"Resized Image\", imgResize)\n",
    "\n",
    "# crop the image\n",
    "imgCropped = img[0:200, 200:500]\n",
    "cv.imshow(\"Cropped Image\", imgCropped)\n",
    "\n",
    "cv.waitKey(0)\n",
    "```"
   ]
  },
  {
   "attachments": {},
   "cell_type": "markdown",
   "metadata": {},
   "source": [
    "#"
   ]
  },
  {
   "cell_type": "code",
   "execution_count": null,
   "metadata": {},
   "outputs": [],
   "source": [
    "\n"
   ]
  }
 ],
 "metadata": {
  "kernelspec": {
   "display_name": "base",
   "language": "python",
   "name": "python3"
  },
  "language_info": {
   "codemirror_mode": {
    "name": "ipython",
    "version": 3
   },
   "file_extension": ".py",
   "mimetype": "text/x-python",
   "name": "python",
   "nbconvert_exporter": "python",
   "pygments_lexer": "ipython3",
   "version": "3.11.4"
  },
  "orig_nbformat": 4
 },
 "nbformat": 4,
 "nbformat_minor": 2
}
