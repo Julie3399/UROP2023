{
 "cells": [
  {
   "cell_type": "code",
   "execution_count": 20,
   "metadata": {},
   "outputs": [],
   "source": [
    "import os\n",
    "import openai"
   ]
  },
  {
   "cell_type": "markdown",
   "metadata": {},
   "source": [
    "The following is the sample code to ask ChatGpt to understand the context of the conversation between the participants and generate a response analysis the presentation of the mentioned skills."
   ]
  },
  {
   "cell_type": "code",
   "execution_count": null,
   "metadata": {},
   "outputs": [],
   "source": [
    "import openai\n",
    "\n",
    "# Set your OpenAI GPT-3 API key here, with valid billing information\n",
    "api_key = \"API_KEY_HERE\"\n",
    "\n",
    "# Read content from the two text files\n",
    "with open('initial_promp.txt', 'r') as file1, open('transcript.txt', 'r') as file2:\n",
    "    content1 = file1.read()\n",
    "    content2 = file2.read()\n",
    "\n",
    "# Initialize the OpenAI API client\n",
    "openai.api_key = api_key\n",
    "\n",
    "def generate_response(prompt):\n",
    "    messages = [{\"role\": \"user\", \"content\": prompt}]\n",
    "    response = openai.Completion.create(\n",
    "        engine=\"gpt-3.5-turbo\",  # Use the appropriate engine version\n",
    "        messages=messages,\n",
    "        temperature=0.1, # You can adjust the temperature to get different results. For the current prompt, a lower temperature will result in a more coherent response\n",
    "        # max_tokens=100  # You can adjust the length of the response if needed\n",
    "    )\n",
    "    return response.choices[0].message['content']\n",
    "\n",
    "# Combine the contents into a single prompt\n",
    "combined_prompt = f\"{content1}\\n{content2}\"\n",
    "\n",
    "# Generate and print the response\n",
    "generated_response = generate_response(combined_prompt)\n",
    "print(generated_response)"
   ]
  },
  {
   "cell_type": "markdown",
   "metadata": {},
   "source": [
    "##### The sample transcript should be :\n",
    "- speaker 1: I think we should add a led here.\n",
    "- speaker 2: Yes! then we should connect the LED with the battery.\n",
    "- speaker 1: Sure, could you please pass me the lamp?\n",
    "- speaker 2: here you are\n",
    "##### If we put the initial prompt and the above transcript into ChatGPT, the output should be similar to the following:\n",
    "Based on the conversation between speaker 1 and speaker 2, here's the evaluation of their demonstrated skills:\n",
    "\n",
    "**Speaker 1:**\n",
    "- Skill 1 (LED): 100% - Speaker 1 independently applied the skill by suggesting to add an LED to the circuit.\n",
    "- Skill 7 (Lamp): 30% - Speaker 1 requested a lamp from speaker 2, indicating some understanding of when to use a lamp in the circuit.\n",
    "\n",
    "**Speaker 2:**\n",
    "- Skill 1 (LED): Not mentioned.\n",
    "- Skill 7 (Lamp): 70% - Speaker 2 provided the lamp when asked, showing a good understanding of when to use it.\n",
    "\n",
    "**Other skills were not mentioned in the conversation.**\n",
    "\n",
    "Please note that the conversation didn't explicitly cover all the skills mentioned in the task, so the evaluation is based only on the skills that were mentioned and demonstrated."
   ]
  },
  {
   "cell_type": "code",
   "execution_count": null,
   "metadata": {},
   "outputs": [],
   "source": [
    "# our current thought is that record the real time audio and save for every 30/40 seconds then use the `transcript_with_speaker_name` file \n",
    "# to transfer the audio to text and save the text into the file `transcript`. Then use the above code to generate the response from GPT\n",
    "# and then use the response to update the skills with other observations from other models like circuit model (NEED TO DO!!!!!!). \n",
    "# then we would better to clear the file `transcript` and then process with the next 30/40 seconds audio.\n",
    "\n",
    "# code for clear the file `transcript`\n",
    "with open('transcript.txt', \"w\") as file:\n",
    "    file.truncate(0)"
   ]
  }
 ],
 "metadata": {
  "kernelspec": {
   "display_name": "Python 3",
   "language": "python",
   "name": "python3"
  },
  "language_info": {
   "codemirror_mode": {
    "name": "ipython",
    "version": 3
   },
   "file_extension": ".py",
   "mimetype": "text/x-python",
   "name": "python",
   "nbconvert_exporter": "python",
   "pygments_lexer": "ipython3",
   "version": "3.11.4"
  },
  "orig_nbformat": 4
 },
 "nbformat": 4,
 "nbformat_minor": 2
}
