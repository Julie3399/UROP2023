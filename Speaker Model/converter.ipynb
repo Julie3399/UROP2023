{
 "cells": [
  {
   "cell_type": "code",
   "execution_count": null,
   "metadata": {},
   "outputs": [],
   "source": []
  },
  {
   "cell_type": "markdown",
   "metadata": {},
   "source": [
    "### Converter from mp4 to wav"
   ]
  },
  {
   "cell_type": "code",
   "execution_count": null,
   "metadata": {},
   "outputs": [],
   "source": [
    "from moviepy.editor import VideoFileClip\n",
    "\n",
    "def mp4_to_wav(input_file, output_file):\n",
    "    try:\n",
    "        # Load the MP4 video clip\n",
    "        video_clip = VideoFileClip(input_file)\n",
    "\n",
    "        # Get the audio part from the video clip\n",
    "        audio_clip = video_clip.audio\n",
    "\n",
    "        # Save the audio as a WAV file\n",
    "        audio_clip.write_audiofile(output_file, codec='pcm_s16le')\n",
    "\n",
    "        # Close the video and audio clips\n",
    "        audio_clip.close()\n",
    "        video_clip.close()\n",
    "\n",
    "        print(f\"Conversion successful. WAV file saved as {output_file}\")\n",
    "\n",
    "    except Exception as e:\n",
    "        print(f\"Error converting file: {e}\")\n",
    "\n",
    "if __name__ == \"__main__\":\n",
    "    input_file_path = \"/Users/huxinyu/Desktop/74_1690901194.mp4\"  # Replace with the path to your input MP4 file\n",
    "    output_file_path = \"/Users/huxinyu/Desktop/UROP2023/7min.wav\"  # Replace with the desired path for the output WAV file\n",
    "\n",
    "    mp4_to_wav(input_file_path, output_file_path)\n"
   ]
  },
  {
   "cell_type": "markdown",
   "metadata": {},
   "source": [
    "### Take the average of the 2 channels"
   ]
  },
  {
   "cell_type": "code",
   "execution_count": null,
   "metadata": {},
   "outputs": [],
   "source": [
    "\n",
    "from pydub import AudioSegment\n",
    "\n",
    "def stereo_to_mono(input_path, output_path):\n",
    "    audio = AudioSegment.from_file(input_path)\n",
    "\n",
    "    mono_audio = audio.set_channels(1)\n",
    "\n",
    "    mono_audio.export(output_path, format=\"wav\")\n",
    "\n",
    "\n",
    "\n",
    "# Example usage:\n",
    "input_file = '/Users/huxinyu/Desktop/UROP2023/7min.wav'\n",
    "output_file = '/Users/huxinyu/Desktop/UROP2023/7min_mono.wav'\n",
    "stereo_to_mono(input_file, output_file)\n"
   ]
  },
  {
   "cell_type": "markdown",
   "metadata": {},
   "source": [
    "### Keep all the information"
   ]
  },
  {
   "cell_type": "code",
   "execution_count": null,
   "metadata": {},
   "outputs": [],
   "source": []
  },
  {
   "cell_type": "code",
   "execution_count": null,
   "metadata": {},
   "outputs": [],
   "source": [
    "import librosa\n",
    "import soundfile as sf\n",
    "import numpy as np\n",
    "\n",
    "def stereo_to_mono(input_path, output_path):\n",
    "    # Load the stereo audio file\n",
    "    y, sr = librosa.load(input_path, sr=None, mono=False)\n",
    "    \n",
    "    # Check if the audio is stereo\n",
    "    if len(y.shape) != 2 or y.shape[0] != 2:\n",
    "        raise ValueError(\"Input audio is not stereo.\")\n",
    "    \n",
    "    # Merge the two channels into a single mono channel\n",
    "    mono_y = np.mean(y, axis=0)\n",
    "    \n",
    "    # Save the mono audio to a new file\n",
    "    sf.write(output_path, mono_y, sr, 'PCM_24')\n",
    "\n",
    "# Example usage:\n",
    "input_file = '/Users/huxinyu/Desktop/UROP2023/7min.wav'\n",
    "output_file = '/Users/huxinyu/Desktop/UROP2023/7min_mono1.wav'\n",
    "stereo_to_mono(input_file, output_file)\n"
   ]
  },
  {
   "cell_type": "code",
   "execution_count": null,
   "metadata": {},
   "outputs": [],
   "source": []
  }
 ],
 "metadata": {
  "kernelspec": {
   "display_name": "Python 3",
   "language": "python",
   "name": "python3"
  },
  "language_info": {
   "codemirror_mode": {
    "name": "ipython",
    "version": 3
   },
   "file_extension": ".py",
   "mimetype": "text/x-python",
   "name": "python",
   "nbconvert_exporter": "python",
   "pygments_lexer": "ipython3",
   "version": "3.8.17"
  },
  "orig_nbformat": 4
 },
 "nbformat": 4,
 "nbformat_minor": 2
}
