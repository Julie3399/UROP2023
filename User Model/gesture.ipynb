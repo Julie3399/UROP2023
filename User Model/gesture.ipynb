{
 "cells": [
  {
   "cell_type": "code",
   "execution_count": 2,
   "metadata": {},
   "outputs": [],
   "source": [
    "import cv2\n",
    "import mediapipe as mp\n",
    "from cvzone_hand import HandDetector\n",
    "\n",
    "\n",
    "cap = cv2.VideoCapture(0)\n",
    "detector = HandDetector(detectionCon=0.8, maxHands=4)\n",
    "\n",
    "# Function to detect grabbing and putting down actions\n",
    "def detect_gesture(hand_landmarks):\n",
    "    # Example logic for detecting grabbing gesture\n",
    "    thumb_tip = hand_landmarks.landmark[mp.solutions.hands.HandLandmark.THUMB_TIP]\n",
    "    index_finger_tip = hand_landmarks.landmark[mp.solutions.hands.HandLandmark.INDEX_FINGER_TIP]\n",
    "    \n",
    "    distance = cv2.norm((thumb_tip.x, thumb_tip.y), (index_finger_tip.x, index_finger_tip.y))\n",
    "    \n",
    "    if distance < 0.05:\n",
    "        return \"Grabbing\"\n",
    "    else:\n",
    "        return \"Putting Down\"\n",
    "\n",
    "while True:\n",
    "    success, img = cap.read()\n",
    "    hands, img = detector.findHands(img)  # With Draw\n",
    "    # hands = detector.findHands(img, draw=False)  # No Draw\n",
    "\n",
    "    # if hands:\n",
    "    #     # Hand 1\n",
    "    #     hand1 = hands[0]\n",
    "    #     lmList1 = hand1[\"lmList\"]  # List of 21 Landmarks points\n",
    "    #     bbox1 = hand1[\"bbox\"]  # Bounding Box info x,y,w,h\n",
    "    #     centerPoint1 = hand1[\"center\"]  # center of the hand cx,cy\n",
    "    #     handType1 = hand1[\"type\"]  # Hand Type Left or Right\n",
    "\n",
    "    #     # print(len(lmList1),lmList1)\n",
    "    #     # print(bbox1)\n",
    "    #     # print(centerPoint1)\n",
    "    #     fingers1 = detector.fingersUp(hand1)\n",
    "        #length, info, img = detector.findDistance(lmList1[8], lmList1[12], img) # with draw\n",
    "        #length, info = detector.findDistance(lmList1[8], lmList1[12])  # no draw\n",
    "\n",
    "\n",
    "        # if len(hands) == 2:\n",
    "        #     hand2 = hands[1]\n",
    "        #     lmList2 = hand2[\"lmList\"]  # List of 21 Landmarks points\n",
    "        #     bbox2 = hand2[\"bbox\"]  # Bounding Box info x,y,w,h\n",
    "        #     centerPoint2 = hand2[\"center\"]  # center of the hand cx,cy\n",
    "        #     handType2 = hand2[\"type\"]  # Hand Type Left or Right\n",
    "\n",
    "        #     fingers2 = detector.fingersUp(hand2)\n",
    "        #     # print(fingers1, fingers2)\n",
    "        #     #length, info, img = detector.findDistance(lmList1[8], lmList2[8], img) # with draw\n",
    "        #     length, info, img = detector.findDistance(centerPoint1, centerPoint2, img)  # with draw\n",
    "\n",
    "    cv2.imshow(\"Image\", img)\n",
    "    if cv2.waitKey(1) & 0xFF == ord('q'):\n",
    "        break\n",
    "\n"
   ]
  },
  {
   "cell_type": "code",
   "execution_count": null,
   "metadata": {},
   "outputs": [],
   "source": []
  }
 ],
 "metadata": {
  "kernelspec": {
   "display_name": "base",
   "language": "python",
   "name": "python3"
  },
  "language_info": {
   "codemirror_mode": {
    "name": "ipython",
    "version": 3
   },
   "file_extension": ".py",
   "mimetype": "text/x-python",
   "name": "python",
   "nbconvert_exporter": "python",
   "pygments_lexer": "ipython3",
   "version": "3.11.4"
  },
  "orig_nbformat": 4
 },
 "nbformat": 4,
 "nbformat_minor": 2
}
