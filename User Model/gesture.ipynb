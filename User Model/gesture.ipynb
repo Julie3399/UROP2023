{
 "cells": [
  {
   "cell_type": "code",
   "execution_count": null,
   "metadata": {},
   "outputs": [],
   "source": [
    "import cv2\n",
    "import mediapipe as mp\n",
    "from cvzone_hand import HandDetector\n",
    "import os\n",
    "import time"
   ]
  },
  {
   "cell_type": "code",
   "execution_count": null,
   "metadata": {},
   "outputs": [],
   "source": [
    "# Function to detect grabbing and putting down actions\n",
    "def detect_gesture(hand_landmarks):\n",
    "    # Example logic for detecting grabbing gesture\n",
    "    thumb_tip = hand_landmarks.landmark[mp.solutions.hands.HandLandmark.THUMB_TIP]\n",
    "    index_finger_tip = hand_landmarks.landmark[mp.solutions.hands.HandLandmark.INDEX_FINGER_TIP]\n",
    "    \n",
    "    distance = cv2.norm((thumb_tip.x, thumb_tip.y), (index_finger_tip.x, index_finger_tip.y))\n",
    "    \n",
    "    if distance < 0.05:\n",
    "        return \"Grabbing\"\n",
    "    else:\n",
    "        return \"Putting Down\""
   ]
  },
  {
   "cell_type": "code",
   "execution_count": null,
   "metadata": {},
   "outputs": [],
   "source": [
    "cap = cv2.VideoCapture(0)\n",
    "detector = HandDetector(detectionCon=0.8, maxHands=4)\n",
    "\n",
    "# Create the output directory if it doesn't exist\n",
    "output_dir = \"hand detection demo\"\n",
    "os.makedirs(output_dir, exist_ok=True)\n",
    "\n",
    "# Define the codec\n",
    "fourcc = cv2.VideoWriter_fourcc(*'mp4v')\n",
    "\n",
    "# Generate a unique output file name with a timestamp\n",
    "timestamp = time.strftime(\"%Y%m%d-%H%M%S\")\n",
    "output_file = f\"output_{timestamp}.mp4\"\n",
    "output_path = os.path.join(output_dir, output_file)\n",
    "\n",
    "out = cv2.VideoWriter(output_path, fourcc, 20.0, (int(cap.get(3)), int(cap.get(4))))\n",
    "\n",
    "while True:\n",
    "    success, img = cap.read()\n",
    "    if not success:\n",
    "        break\n",
    "\n",
    "    # Detect hands\n",
    "    hands, img = detector.findHands(img)\n",
    "\n",
    "    # Save the frame to the output video\n",
    "    out.write(img)\n",
    "\n",
    "    cv2.imshow(\"Image\", img)\n",
    "\n",
    "    if cv2.waitKey(1) & 0xFF == ord('q'):\n",
    "        break\n",
    "    \n",
    "# Release the VideoWriter and close the OpenCV windows\n",
    "out.release()\n",
    "cap.release()\n",
    "cv2.destroyAllWindows()\n",
    "\n",
    "print(f\"Video saved to: {output_path}\")\n"
   ]
  }
 ],
 "metadata": {
  "kernelspec": {
   "display_name": "base",
   "language": "python",
   "name": "python3"
  },
  "language_info": {
   "codemirror_mode": {
    "name": "ipython",
    "version": 3
   },
   "file_extension": ".py",
   "mimetype": "text/x-python",
   "name": "python",
   "nbconvert_exporter": "python",
   "pygments_lexer": "ipython3",
   "version": "3.11.4"
  },
  "orig_nbformat": 4
 },
 "nbformat": 4,
 "nbformat_minor": 2
}
