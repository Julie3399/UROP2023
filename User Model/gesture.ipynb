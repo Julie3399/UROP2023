{
 "cells": [
  {
   "cell_type": "code",
   "execution_count": 2,
   "metadata": {},
   "outputs": [],
   "source": [
    "import cv2\n",
    "import mediapipe as mp\n",
    "from cvzone_hand import HandDetector\n",
    "\n",
    "\n",
    "cap = cv2.VideoCapture(0)\n",
    "detector = HandDetector(detectionCon=0.8, maxHands=4)\n",
    "\n",
    "# Function to detect grabbing and putting down actions\n",
    "def detect_gesture(hand_landmarks):\n",
    "    # Example logic for detecting grabbing gesture\n",
    "    thumb_tip = hand_landmarks.landmark[mp.solutions.hands.HandLandmark.THUMB_TIP]\n",
    "    index_finger_tip = hand_landmarks.landmark[mp.solutions.hands.HandLandmark.INDEX_FINGER_TIP]\n",
    "    \n",
    "    distance = cv2.norm((thumb_tip.x, thumb_tip.y), (index_finger_tip.x, index_finger_tip.y))\n",
    "    \n",
    "    if distance < 0.05:\n",
    "        return \"Grabbing\"\n",
    "    else:\n",
    "        return \"Putting Down\"\n",
    "\n",
    "while True:\n",
    "    success, img = cap.read()\n",
    "    hands, img = detector.findHands(img)  # With Draw\n",
    "    # hands = detector.findHands(img, draw=False)  # No Draw\n",
    "    cv2.imshow(\"Image\", img)\n",
    "    if cv2.waitKey(1) & 0xFF == ord('q'):\n",
    "        break\n",
    "\n"
   ]
  },
  {
   "cell_type": "code",
   "execution_count": null,
   "metadata": {},
   "outputs": [],
   "source": []
  }
 ],
 "metadata": {
  "kernelspec": {
   "display_name": "base",
   "language": "python",
   "name": "python3"
  },
  "language_info": {
   "codemirror_mode": {
    "name": "ipython",
    "version": 3
   },
   "file_extension": ".py",
   "mimetype": "text/x-python",
   "name": "python",
   "nbconvert_exporter": "python",
   "pygments_lexer": "ipython3",
   "version": "3.11.4"
  },
  "orig_nbformat": 4
 },
 "nbformat": 4,
 "nbformat_minor": 2
}
