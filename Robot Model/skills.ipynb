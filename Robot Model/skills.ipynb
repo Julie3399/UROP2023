{
 "cells": [
  {
   "cell_type": "markdown",
   "metadata": {},
   "source": [
    "## Skills specification\n"
   ]
  },
  {
   "cell_type": "markdown",
   "metadata": {},
   "source": [
    "\n",
    "### 1. Piece picking skills\n",
    "\n",
    "* (Task 1) When a LED should be used\n",
    "* (Task 2) When a FM Radio receiver should be used\n",
    "* (Task 3) A Buzzrer should be used\n",
    "* (Task 4) A Touch Plate should be used\n",
    "* (Task 5) A Reed Switch should be used\n",
    "* (Task 6) A Push Button Switch should be used\n",
    "* (Task 7) A Cds should be used\n",
    "* (Task 8) A Bulb should be used\n",
    "* (Task 9) A Battery should be used\n",
    "* (Task 10) A Speaker should be used\n",
    "* (Task 11) A IC-Music should be used\n",
    "* (Task 12) A Motor should be used"
   ]
  },
  {
   "cell_type": "markdown",
   "metadata": {},
   "source": [
    "\n",
    "### 2. Piece connecting skills\n"
   ]
  },
  {
   "cell_type": "markdown",
   "metadata": {},
   "source": [
    "- (Task 13) How to Connect two pieces together"
   ]
  },
  {
   "cell_type": "markdown",
   "metadata": {},
   "source": [
    "### 3. Connection skills\n",
    "* Connect LED to Switch\n",
    "* Connect LED to Button\n",
    "* Connect LED to Reed Switch\n",
    "* Connect Switch to Button\n",
    "* Connect Switch to Motor\n",
    "* Connect Switch to Speaker\n",
    "* Connect Button to Motor\n",
    "* Connect Button to Speaker\n",
    "* Connect Bulb to Switch\n",
    "* Connect Bulb to Button\n",
    "* Connect Bulb to Reed Switch\n",
    "* Connect Disk to Motor"
   ]
  },
  {
   "cell_type": "markdown",
   "metadata": {},
   "source": [
    "\n",
    "### 4. LED Direction skills\n"
   ]
  },
  {
   "cell_type": "markdown",
   "metadata": {},
   "source": [
    "- The correct directionality of an LED"
   ]
  },
  {
   "cell_type": "markdown",
   "metadata": {},
   "source": [
    "\n",
    "### 5. High-Level skills\n"
   ]
  },
  {
   "cell_type": "markdown",
   "metadata": {},
   "source": [
    "- How to power an IC-Music\n",
    "- How to delay signals\n",
    "- How to choose different signals in FM radio receiver\n"
   ]
  },
  {
   "cell_type": "markdown",
   "metadata": {},
   "source": [
    "### 6. Closing skills"
   ]
  },
  {
   "cell_type": "markdown",
   "metadata": {},
   "source": [
    "- The circuit should be a closed circuit"
   ]
  },
  {
   "cell_type": "markdown",
   "metadata": {},
   "source": []
  }
 ],
 "metadata": {
  "language_info": {
   "name": "python"
  },
  "orig_nbformat": 4
 },
 "nbformat": 4,
 "nbformat_minor": 2
}
