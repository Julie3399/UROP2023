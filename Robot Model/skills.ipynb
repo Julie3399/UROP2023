{
 "cells": [
  {
   "cell_type": "markdown",
   "metadata": {},
   "source": [
    "## Skills specification\n"
   ]
  },
  {
   "cell_type": "markdown",
   "metadata": {},
   "source": [
    "\n",
    "### 1. Piece picking skills\n",
    "\n",
    "* (Skill 1) When a LED should be used\n",
    "* (Skill 2) When a FM Radio receiver should be used\n",
    "* (Skill 3) A Buzzrer should be used\n",
    "* (Skill 4) A Touch Plate should be used\n",
    "* (Skill 5) A Reed Switch should be used\n",
    "* (Skill 6) A Push Button Switch should be used\n",
    "* (Skill 7) A Cds should be used\n",
    "* (Skill 8) A Bulb should be used\n",
    "* (Skill 9) A Battery should be used\n",
    "* (Skill 10) A Speaker should be used\n",
    "* (Skill 11) A IC-Music should be used\n",
    "* (Skill 12) A Motor should be used"
   ]
  },
  {
   "cell_type": "markdown",
   "metadata": {},
   "source": [
    "\n",
    "### 2. Piece connecting skills\n"
   ]
  },
  {
   "cell_type": "markdown",
   "metadata": {},
   "source": [
    "- (Skill 13) How to Connect two pieces together"
   ]
  },
  {
   "cell_type": "markdown",
   "metadata": {},
   "source": [
    "### 3. Connection skills\n",
    "* (Skill 14) Connect LED to Switch\n",
    "* (Skill 15)Connect LED to Button\n",
    "* (Skill 16) Connect LED to Reed Switch\n",
    "* (Skill 17) Connect Switch to Button\n",
    "* (Skill 18) Connect Switch to Motor\n",
    "* (Skill 19) Connect Switch to Speaker\n",
    "* (Skill 20) Connect Button to Motor\n",
    "* (Skill 21) Connect Button to Speaker\n",
    "* (Skill 22) Connect Bulb to Switch\n",
    "* (Skill 23) Connect Bulb to Button\n",
    "* (Skill 24) Connect Bulb to Reed Switch\n",
    "* (Skill 25) Connect Disk to Motor\n",
    "* (Skill 26) Connect Speaker to IC-Music\n",
    "* (Skill 27) Connect Speaker to FM"
   ]
  },
  {
   "cell_type": "markdown",
   "metadata": {},
   "source": [
    "\n",
    "### 4. LED Direction skills\n"
   ]
  },
  {
   "cell_type": "markdown",
   "metadata": {},
   "source": [
    "- (Skill 28) The correct directionality of an LED"
   ]
  },
  {
   "cell_type": "markdown",
   "metadata": {},
   "source": [
    "\n",
    "### 5. High-Level skills\n"
   ]
  },
  {
   "cell_type": "markdown",
   "metadata": {},
   "source": [
    "- (Skill 29) How to power an IC-Music\n",
    "- (Skill 30) How to delay signals\n",
    "- (Skill 31) How to choose different signals in FM radio receiver\n"
   ]
  },
  {
   "cell_type": "markdown",
   "metadata": {},
   "source": [
    "### 6. Closing skills"
   ]
  },
  {
   "cell_type": "markdown",
   "metadata": {},
   "source": [
    "- (Skill 32) The circuit should be a closed circuit"
   ]
  },
  {
   "cell_type": "markdown",
   "metadata": {},
   "source": []
  }
 ],
 "metadata": {
  "language_info": {
   "name": "python"
  },
  "orig_nbformat": 4
 },
 "nbformat": 4,
 "nbformat_minor": 2
}
