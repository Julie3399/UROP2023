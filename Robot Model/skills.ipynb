{
 "cells": [
  {
   "cell_type": "markdown",
   "metadata": {},
   "source": [
    "## Skills specification\n"
   ]
  },
  {
   "cell_type": "markdown",
   "metadata": {},
   "source": [
    "\n",
    "### 1. Piece picking skills\n",
    "\n",
    "* (Task 1) When a LED should be used\n",
    "* (Task 2) When a FM Radio receiver should be used\n",
    "* (Task 3) A Buzzrer should be used\n",
    "* (Task 4) A Touch Plate should be used\n",
    "* (Task 5) A Reed Switch should be used\n",
    "* (Task 6) A Push Button Switch should be used\n",
    "* (Task 7) A Cds should be used\n",
    "* (Task 8) A Bulb should be used\n",
    "* (Task 9) A Battery should be used\n",
    "* (Task 10) A Speaker should be used\n",
    "* (Task 11) A IC-Music should be used\n",
    "* (Task 12) A Motor should be used"
   ]
  },
  {
   "cell_type": "markdown",
   "metadata": {},
   "source": [
    "\n",
    "### 2. Piece connecting skills\n"
   ]
  },
  {
   "cell_type": "markdown",
   "metadata": {},
   "source": [
    "- (Task 13) How to Connect two pieces together"
   ]
  },
  {
   "cell_type": "markdown",
   "metadata": {},
   "source": [
    "### 3. Connection skills\n",
    "* (Task 14) Connect LED to Switch\n",
    "* (Task 15)Connect LED to Button\n",
    "* (Task 16) Connect LED to Reed Switch\n",
    "* (Task 17) Connect Switch to Button\n",
    "* (Task 18) Connect Switch to Motor\n",
    "* (Task 19) Connect Switch to Speaker\n",
    "* (Task 20) Connect Button to Motor\n",
    "* (Task 21) Connect Button to Speaker\n",
    "* (Task 22) Connect Bulb to Switch\n",
    "* (Task 23) Connect Bulb to Button\n",
    "* (Task 24) Connect Bulb to Reed Switch\n",
    "* (Task 25) Connect Disk to Motor\n",
    "* (Task 26) Connect Speaker to IC-Music\n",
    "* (Task 27) Connect Speaker to FM"
   ]
  },
  {
   "cell_type": "markdown",
   "metadata": {},
   "source": [
    "\n",
    "### 4. LED Direction skills\n"
   ]
  },
  {
   "cell_type": "markdown",
   "metadata": {},
   "source": [
    "- (Task 28) The correct directionality of an LED"
   ]
  },
  {
   "cell_type": "markdown",
   "metadata": {},
   "source": [
    "\n",
    "### 5. High-Level skills\n"
   ]
  },
  {
   "cell_type": "markdown",
   "metadata": {},
   "source": [
    "- (Task 29) How to power an IC-Music\n",
    "- (Task 30) How to delay signals\n",
    "- (Task 31) How to choose different signals in FM radio receiver\n"
   ]
  },
  {
   "cell_type": "markdown",
   "metadata": {},
   "source": [
    "### 6. Closing skills"
   ]
  },
  {
   "cell_type": "markdown",
   "metadata": {},
   "source": [
    "- (Task 32) The circuit should be a closed circuit"
   ]
  },
  {
   "cell_type": "markdown",
   "metadata": {},
   "source": []
  }
 ],
 "metadata": {
  "language_info": {
   "name": "python"
  },
  "orig_nbformat": 4
 },
 "nbformat": 4,
 "nbformat_minor": 2
}
