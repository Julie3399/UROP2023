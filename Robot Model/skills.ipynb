{
 "cells": [
  {
   "cell_type": "markdown",
   "metadata": {},
   "source": [
    "## Skills specification\n"
   ]
  },
  {
   "cell_type": "markdown",
   "metadata": {},
   "source": [
    "\n",
    "### 1. Piece picking skills\n",
    "\n",
    "* when a LED should be used\n",
    "* when a FM Radio receiver should be used\n",
    "* when a Buzzrer should be used\n",
    "* when a Touch Plate should be used\n",
    "* when a Reed Switch should be used\n",
    "* when a Push Button Switch should be used\n",
    "* when a Cds should be used\n",
    "* when a Bulb should be used\n",
    "* when a Battery should be used\n",
    "* when a Speaker should be used\n",
    "* when a IC-Music should be used\n",
    "* when a Motor should be used"
   ]
  },
  {
   "cell_type": "markdown",
   "metadata": {},
   "source": [
    "\n",
    "### 2. Piece connecting skills\n"
   ]
  },
  {
   "cell_type": "markdown",
   "metadata": {},
   "source": [
    "- How to Connect two pieces together"
   ]
  },
  {
   "cell_type": "markdown",
   "metadata": {},
   "source": [
    "### 3. Connection skills\n",
    "* Connect LED to Switch\n",
    "* Connect LED to Button\n",
    "* Connect LED to Reed Switch\n",
    "* Connect Switch to Button\n",
    "* Connect Switch to Motor\n",
    "* Connect Switch to Speaker\n",
    "* Connect Button to Motor\n",
    "* Connect Button to Speaker\n",
    "* Connect Bulb to Switch\n",
    "* Connect Bulb to Button\n",
    "* Connect Bulb to Reed Switch"
   ]
  },
  {
   "cell_type": "markdown",
   "metadata": {},
   "source": [
    "\n",
    "### 4. LED Direction skills\n"
   ]
  },
  {
   "cell_type": "markdown",
   "metadata": {},
   "source": [
    "- The correct directionality of an LED"
   ]
  },
  {
   "cell_type": "markdown",
   "metadata": {},
   "source": [
    "\n",
    "### 5. MC skills\n"
   ]
  },
  {
   "cell_type": "markdown",
   "metadata": {},
   "source": [
    "- How to power an MC\n",
    "- How to connect the signal on the MC\n",
    "- How to use the delay on the MC"
   ]
  },
  {
   "cell_type": "markdown",
   "metadata": {},
   "source": []
  }
 ],
 "metadata": {
  "language_info": {
   "name": "python"
  },
  "orig_nbformat": 4
 },
 "nbformat": 4,
 "nbformat_minor": 2
}
