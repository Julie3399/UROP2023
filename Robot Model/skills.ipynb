{
 "cells": [
  {
   "cell_type": "markdown",
   "metadata": {},
   "source": [
    "## Skills Specification\n"
   ]
  },
  {
   "cell_type": "markdown",
   "metadata": {},
   "source": [
    "\n",
    "### 1. Piece picking skills\n",
    "\n",
    "* (Skill 1) When a LED should be used\n",
    "* (Skill 2) When a FM Radio receiver should be used\n",
    "* (Skill 3) A Buzzrer should be used\n",
    "* (Skill 4) A Switch should be used\n",
    "* (Skill 5) A Reed Switch should be used\n",
    "* (Skill 6) A Push Button Switch should be used\n",
    "* (Skill 7) A Lamp should be used\n",
    "* (Skill 8) A Battery should be used\n",
    "* (Skill 9) A Speaker should be used\n",
    "* (Skill 10) A IC-Music should be used\n",
    "* (Skill 11) A Motor should be used"
   ]
  },
  {
   "cell_type": "markdown",
   "metadata": {},
   "source": [
    "\n",
    "### 2. Piece connecting skills\n"
   ]
  },
  {
   "cell_type": "markdown",
   "metadata": {},
   "source": [
    "- (Skill 12) How to Connect two pieces together"
   ]
  },
  {
   "cell_type": "markdown",
   "metadata": {},
   "source": [
    "### 3. Connection skills\n",
    "* (Skill 13) Connect LED to Switch\n",
    "* (Skill 14)Connect LED to Button\n",
    "* (Skill 15) Connect LED to Reed Switch\n",
    "* (Skill 16) Connect Switch to Button\n",
    "* (Skill 17) Connect Switch to Motor\n",
    "* (Skill 18) Connect Switch to Speaker\n",
    "* (Skill 19) Connect Button to Motor\n",
    "* (Skill 20) Connect Button to Speaker\n",
    "* (Skill 21) Connect Bulb to Switch\n",
    "* (Skill 22) Connect Bulb to Button\n",
    "* (Skill 23) Connect Bulb to Reed Switch\n",
    "* (Skill 24) Connect Switch to IC-Music\n",
    "* (Skill 25) Connect Button to IC-Music\n",
    "* (Skill 26) Connect Speaker to IC-Music\n",
    "* (Skill 27) Connect Speaker to FM"
   ]
  },
  {
   "cell_type": "markdown",
   "metadata": {},
   "source": [
    "\n",
    "### 4. LED Direction skills\n"
   ]
  },
  {
   "cell_type": "markdown",
   "metadata": {},
   "source": [
    "- (Skill 28) The correct directionality of an LED"
   ]
  },
  {
   "cell_type": "markdown",
   "metadata": {},
   "source": [
    "\n",
    "### 5. High-Level skills\n"
   ]
  },
  {
   "cell_type": "markdown",
   "metadata": {},
   "source": [
    "- (Skill 29) How to power an IC-Music\n",
    "- (Skill 30) How to connect signal to IC-Music\n",
    "- (skill 31) How to use the trigger on the MC\n",
    "- (skill 32) How to use the hold on the MC"
   ]
  },
  {
   "cell_type": "markdown",
   "metadata": {},
   "source": [
    "### 6. Closing skills"
   ]
  },
  {
   "cell_type": "markdown",
   "metadata": {},
   "source": [
    "- (Skill 33) The circuit should be a closed circuit"
   ]
  },
  {
   "cell_type": "markdown",
   "metadata": {},
   "source": []
  },
  {
   "cell_type": "markdown",
   "metadata": {},
   "source": []
  },
  {
   "cell_type": "markdown",
   "metadata": {},
   "source": [
    "## Task Specification"
   ]
  },
  {
   "cell_type": "markdown",
   "metadata": {},
   "source": [
    "(Skills used: When to use Lamp, When to use Switch/Button/Reed Switch, Connect Lamp to Switch/Button/Reed Switch, Closed Circuit)\n",
    "- (Task 1 - Switch, Lamp) Build a circuit that you can turn a lamp on and off using a switch\n",
    "- (Task 2 - Button, Lamp) Build a circuit that you can turn a lamp on and off using a button\n",
    "- (Task 3 - Reed switch, Lamp) Build a circuit that you can turn a lamp on and off using a reed switch\n",
    "\n",
    "(Skills used: When to use Motor, When to use Switch, Connect Motor to Switch, Closed Circuit)\n",
    "- (Task 4 - Switch, Motor) Build a circuit that you can turn a motor on and off using a switch\n",
    "- (Task 5 - Button, Motor) Build a circuit that you can turn a motor on and off using a button\n",
    "- (Task 6 - Reed switch, Motor) Build a circuit that you can turn a motor on and off using a reed switch\n",
    "- (Task 7 - Motor) Build a circuit that constantly will have a motor spinning\n",
    "\n",
    "(Skills used: When to use LED, When to use Switch, Direction of LED, Connect LED to Switch, Closed Circuit)\n",
    "- (Task 8 - Switch, LED) Build a circuit that you can turn a LED on and off using a switch\n",
    "- (Task 9 - Switch, LED) Build a circuit that you can make the LED constantly off no matter the switch\n",
    "\n",
    "(Skills used: How to power a Music Circuit, Connect Music Circuit to Switch/Button and Speaker, Closed Circuit)\n",
    "- (Task 10 - MC, Speaker) Build a circuit that plays music\n",
    "- (Task 11 - MC, Speaker, Switch) Build a circuit that plays music when a switch is turned on\n",
    "- (Task 12 - MC, Speaker, Button) Build a circuit that plays music when a button is pressed\n",
    "- (Task 13 - MC, LED, Reed switch ) Build a circuit that plays music when a reed switch is on\n",
    "\n",
    "- (Task 14 - MC, LED) Build a circuit that blinks a light in a rythm of a song\n",
    "- (Task 15 - MC, LED, Switch) Build a circuit that blinks a light in the rythm of a song when a switch is turned on\n",
    "- (Task 16 - MC, LED, Button ) Build a circuit that blinks a light in the rythm of a song when a button is pressed\n",
    "- (Task 17 - MC, LED, Reed switch ) Build a circuit that blinks a light in the rythm of a song when a reed switch is on\n",
    "\n",
    "TO-DO:\n",
    "FM, Delay\n",
    "\n",
    "\n"
   ]
  }
 ],
 "metadata": {
  "language_info": {
   "name": "python"
  },
  "orig_nbformat": 4
 },
 "nbformat": 4,
 "nbformat_minor": 2
}
