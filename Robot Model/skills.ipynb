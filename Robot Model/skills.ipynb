{
 "cells": [
  {
   "cell_type": "markdown",
   "metadata": {},
   "source": [
    "## Skills specification\n",
    "\n",
    "### 1. Piece picking skills\n",
    "\n",
    "### 2. Piece connecting skills\n",
    "\n",
    "### 3. LED Direction skills\n",
    "\n",
    "### 4. Powering skills\n"
   ]
  },
  {
   "cell_type": "markdown",
   "metadata": {},
   "source": []
  }
 ],
 "metadata": {
  "language_info": {
   "name": "python"
  },
  "orig_nbformat": 4
 },
 "nbformat": 4,
 "nbformat_minor": 2
}
