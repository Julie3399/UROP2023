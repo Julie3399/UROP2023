{
 "cells": [
  {
   "cell_type": "markdown",
   "metadata": {},
   "source": [
    "Self-learning stuff with Misty. Can be ignored."
   ]
  },
  {
   "cell_type": "code",
   "execution_count": null,
   "metadata": {},
   "outputs": [],
   "source": [
    "from mistyPy import Robot\n",
    "from misty_ide_comm import IdeComm\n",
    "\n",
    "comm = IdeComm()\n",
    "\n",
    "def main():\n",
    "    comm.send_message('starting')\n",
    "    misty = Robot()\n",
    "\n",
    "    #Your code here\n",
    "\n",
    "    comm.shutdown()\n",
    "\n",
    "\n",
    "if __name__ == \"__main__\":\n",
    "    misty_ip = \"192.168.0.101\"\n",
    "    misty = Robot(misty_ip)\n",
    "    comm.start(main)\n",
    "    main()"
   ]
  },
  {
   "cell_type": "code",
   "execution_count": null,
   "metadata": {},
   "outputs": [],
   "source": [
    "from mistyPy import Robot\n",
    "\n",
    "# Replace these with your actual Misty's IP and API key\n",
    "misty_ip = \"192.168.0.101\"\n",
    "misty = Robot(misty_ip)\n",
    "\n",
    "\n",
    "def greeting():\n",
    "    current_response = misty.MoveArm(\"both\", 45, 100)\n",
    "    greeting_message = \"Hello! I am Misty, your friendly robot.\" # Should be modified in the future \n",
    "    \n",
    "    # Speak the greeting message\n",
    "    misty.speak(greeting_message)"
   ]
  }
 ],
 "metadata": {
  "kernelspec": {
   "display_name": "Python 3",
   "language": "python",
   "name": "python3"
  },
  "language_info": {
   "codemirror_mode": {
    "name": "ipython",
    "version": 3
   },
   "file_extension": ".py",
   "mimetype": "text/x-python",
   "name": "python",
   "nbconvert_exporter": "python",
   "pygments_lexer": "ipython3",
   "version": "3.11.4"
  },
  "orig_nbformat": 4
 },
 "nbformat": 4,
 "nbformat_minor": 2
}
