{
 "cells": [
  {
   "cell_type": "markdown",
   "metadata": {},
   "source": [
    "## Skills Specification\n"
   ]
  },
  {
   "cell_type": "markdown",
   "metadata": {},
   "source": [
    "*   Piece Picking Skills\n",
    "    *  (Skill 1) When a LED should be used\n",
    "    *  (Skill 2) When a FM Radio receiver should be used\n",
    "    *  (Skill 3) A Buzzrer should be used\n",
    "    *  (Skill 4) A Switch should be used\n",
    "    *  (Skill 5) A Reed Switch should be used\n",
    "    *  (Skill 6) A Push Button Switch should be used\n",
    "    *  (Skill 7) A Lamp should be used\n",
    "    *  (Skill 8) A Battery should be used\n",
    "    *  (Skill 9) A Speaker should be used\n",
    "    *  (Skill 10) A IC-Music should be used\n",
    "    *  (Skill 11) A Motor should be used\n",
    "*   Piece connecting skills\n",
    "    *  (skill 12) How to Connect two pieces together\n",
    "*   LED direction skills\n",
    "    *  (skill 13) The correct directionality of an LED\n",
    "*   High level skills\n",
    "    *  (skill 14) How to power an MC\n",
    "    *  (skill 15) How to power an FM\n",
    "    *  (skill 16) How to change the signal on the FM\n",
    "*   Closing skills\n",
    "    *  (skill 17) That the circuit should be a circuit\n",
    "*   Gate skills\n",
    "    *  (skill 18) How to create an AND gate\n",
    "    *  (skill 19) How to create an OR gate\n",
    "    *  (skill 20) How to create an NOT gate"
   ]
  },
  {
   "cell_type": "markdown",
   "metadata": {},
   "source": [
    "(Skills used: When to use lamp, When to use Switch/Button/Reed Switch, Connect Lamp to Switch/Button/Reed Switch, Closed Circuit)\n",
    "- (Task 1 - Switch, Lamp) Build a circuit that you can turn a lamp on and off using a switch\n",
    "- (Task 2 - Button, Lamp) Build a circuit that you can turn a lamp on and off using a button\n",
    "- (Task 3 - Reed switch, Lamp) Build a circuit that you can turn a lamp on and off using a reed switch\n",
    "\n",
    "(Skills used: When to use Motor, When to use Switch, Connect Motor to Switch, Closed Circuit)\n",
    "- (Task 4 - Switch, Motor) Build a circuit that you can turn a motor on and off using a switch\n",
    "- (Task 5 - Button, Motor) Build a circuit that you can turn a motor on and off using a button\n",
    "- (Task 6 - Reed switch, Motor) Build a circuit that you can turn a motor on and off using a reed switch\n",
    "- (Task 7 - Motor) Build a circuit that constantly will have a motor spinning\n",
    "\n",
    "(Skills used: When to use LED, When to use Switch, Direction of LED, Connect LED to Switch, Closed Circuit)\n",
    "- (Task 8 - Switch, LED) Build a circuit that you can turn a LED on and off using a switch\n",
    "- (Task 9 - LED) Build a circuit that has a constant LED on\n",
    "\n",
    "(Skills used: How to power a Music Circuit, Connect Music Circuit to Switch/Button and Speaker, Closed Circuit)\n",
    "- (Task 10 - MC, Speaker) Build a circuit that plays music\n",
    "- (Task 11 - MC, Speaker, Switch) Build a circuit that plays music when a switch is turned on\n",
    "- (Task 12 - MC, Speaker, Button) Build a circuit that plays music when a button is pressed\n",
    "- (Task 13 - MC, LED, Reed switch ) Build a circuit that plays music when a reed switch is on\n",
    "\n",
    "- (Task 14 - MC, LED) Build a circuit that blinks a light in a rythm of a song\n",
    "- (Task 15 - MC, LED, Switch) Build a circuit that blinks a light in the rythm of a song when a switch is turned on\n",
    "- (Task 16 - MC, LED, Button ) Build a circuit that blinks a light in the rythm of a song when a button is pressed\n",
    "- (Task 17 - MC, LED, Reed switch ) Build a circuit that blinks a light in the rythm of a song when a reed switch is on\n",
    "\n",
    "TO-DO:\n",
    "FM, Delay\n",
    "\n",
    "\n"
   ]
  },
  {
   "cell_type": "markdown",
   "metadata": {},
   "source": [
    "(Skills used: When to use FM, When to use Speaker, When to use a buzzrer, Connect FM to Switch & Buzzrer/Speaker, Closed Circuit)\n",
    "- (Task 18 - FM, Speaker) Build a circuit that that you can listen to the FM radio via the Speaker\n",
    "- (Task 19 - FM, Switch, Speaker) Build a circuit that you can listen to the FM radio via the Speaker and off using a switch\n",
    "- (Task 20 - FM, Button, Speaker) Build a circuit that you can listen to the FM radio via the Speaker when a button is pressed\n",
    "- (Task 21 - FM, Switch, Buzzrer) Build a circuit that you can listen to the FM radio via the Buzzrer and off using a switch\n",
    "- (Task 22 - FM, Switch, Buzzrer) Build a circuit that you can listen to the FM radio via the Buzzrer and off using a switch\n",
    "- (Task 23 - FM, Button, Buzzrer) Build a circuit that you can listen to the FM radio via the Buzzrer when a button is pressed"
   ]
  },
  {
   "cell_type": "markdown",
   "metadata": {
    "vscode": {
     "languageId": "plaintext"
    }
   },
   "source": [
    "(Skills used: When to use switch, When to use push button, When to use a led, Connect pieces, Closed Circuit)\n",
    "- (Task 24 - And gate; led, switch, push button) Build a circuit that that the led lights only when both switch and push button switch is closed\n",
    "- (Task 25 - or gate; led, switch, push button) Build a circuit that either switch or push-button is closed is enough to make the led light\n",
    "\n",
    "- (Task 26 - Not gate; led, switch) Build a circuit that that the led lights when the switch is not closed but not light when the switch is closed\n",
    "- (Task 24 - And gate; lamp, switch, push button) Build a circuit that that the lamp lights only when both switch and push button switch is closed\n",
    "- (Task 25 - or gate; lamp, switch, push button) Build a circuit that either switch or push-button is cloased is enough to make the lamp light\n",
    "- (Task 26 - Not gate; lamp, switch) Build a circuit that that the lamp lights when the switch is not closed but not light when the switch is closed"
   ]
  }
 ],
 "metadata": {
  "language_info": {
   "name": "python"
  },
  "orig_nbformat": 4
 },
 "nbformat": 4,
 "nbformat_minor": 2
}
