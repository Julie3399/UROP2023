{
 "cells": [
  {
   "cell_type": "markdown",
   "metadata": {},
   "source": [
    "# Preprocessing and Drawing the Virtual Board\n",
    "In this file, we are going to:\n",
    "1. Mask and detect the edge of the board\n",
    "2. Deskew the rotated board\n",
    "3. Draw pegs on the deskew board\n",
    "4. Create the virtual board with electrical components on it"
   ]
  },
  {
   "cell_type": "code",
   "execution_count": 140,
   "metadata": {},
   "outputs": [],
   "source": [
    "import numpy as np\n",
    "from PIL import Image, ImageDraw,ImageFont\n",
    "import cv2\n",
    "from ultralytics import YOLO"
   ]
  },
  {
   "cell_type": "code",
   "execution_count": 5,
   "metadata": {},
   "outputs": [],
   "source": [
    "def whatAngle(boardBW):\n",
    "    \n",
    "\tcoords = np.column_stack(np.where(boardBW > 0))\n",
    "\tangle = cv2.minAreaRect(coords)[-1]\n",
    "\n",
    "\tif angle < -45:\n",
    "\t\tangle = -(90 + angle)\n",
    "\t \n",
    "\telse:\n",
    "\t\tangle = -angle\n",
    "\t\t\n",
    "\treturn angle\n",
    "\n",
    "\n",
    "def tilt(image, angle):\n",
    "\t# rotate the image to deskew it\n",
    "\t(h, w) = image.shape[:2]\n",
    "\tcenter = (w // 2, h // 2)\n",
    "\tM = cv2.getRotationMatrix2D(center, angle, 1.0)\n",
    "\trotated = cv2.warpAffine(image, M, (w, h),\n",
    "\tflags=cv2.INTER_CUBIC, borderMode=cv2.BORDER_REPLICATE)\n",
    "\n",
    "\treturn rotated\n",
    "\n",
    "\n",
    "def get_edges(image):\n",
    "\n",
    "\tminRow = float('inf')\n",
    "\tminColumn = float('inf')\n",
    "\tmaxRow = float('-inf')\n",
    "\tmaxColumn = float('-inf')\n",
    "\t\n",
    "\tfor row in range(0,len(image)):\n",
    "\t\tfor column in range(0,len(image[0])):\n",
    "\t\t\tpixelValue = image[row][column]\n",
    "\t\t\tif pixelValue > 0:\n",
    "\t\t\t\tif minRow > row:\n",
    "\t\t\t\t\tminRow = row\n",
    "\t\t\t\tif maxRow < row:\n",
    "\t\t\t\t\tmaxRow = row\n",
    "\t\t\t\tif minColumn > column:\n",
    "\t\t\t\t\tminColumn = column\n",
    "\t\t\t\tif maxColumn < column:\n",
    "\t\t\t\t\tmaxColumn = column\n",
    "\t\t\t\t\t\n",
    "\textLeft = minColumn\n",
    "\textRight = maxColumn\n",
    "\textTop = minRow\n",
    "\textBot = maxRow\n",
    "    \n",
    "\treturn (extLeft, extRight, extBot, extTop)"
   ]
  },
  {
   "cell_type": "code",
   "execution_count": 6,
   "metadata": {},
   "outputs": [],
   "source": [
    "def get_boundary(img):\n",
    "        x,y,w,h = 0,0,0,0\n",
    "        contours,hierarchy = cv2.findContours(img,cv2.RETR_EXTERNAL,cv2.CHAIN_APPROX_NONE)\n",
    "        for cnt in contours:\n",
    "            area = cv2.contourArea(cnt)\n",
    "            if area>500:\n",
    "                cv2.drawContours(img, cnt, -1, (255, 0, 0), 3)\n",
    "                peri = cv2.arcLength(cnt,True)\n",
    "                approx = cv2.approxPolyDP(cnt,0.0009*peri,True)\n",
    "                x, y, w, h = cv2.boundingRect(approx)\n",
    "                # cv2.imshow('contour_result',img)\n",
    "                # cv2.waitKey(1)\n",
    "\n",
    "        return x,y,w,h"
   ]
  },
  {
   "cell_type": "code",
   "execution_count": 7,
   "metadata": {},
   "outputs": [],
   "source": [
    "def get_board_mask(img):\n",
    "    color = [0, 0, 0, 255, 255, 50]\n",
    "    imgHSV = cv2.cvtColor(img, cv2.COLOR_BGR2HSV)\n",
    "    lower = np.array(color[:3])  \n",
    "    upper = np.array(color[3:]) \n",
    "    mask = cv2.inRange(imgHSV, lower, upper)\n",
    "    return mask"
   ]
  },
  {
   "cell_type": "code",
   "execution_count": 38,
   "metadata": {},
   "outputs": [],
   "source": [
    "def get_pegs(img,x1,x2,y1,y2):\n",
    "    matrixcoor_to_realcoor = {}\n",
    "    dist_from_edge = [(x2-x1)/13,(y2-y1)/15]\n",
    "    board_width = x2-x1-2*dist_from_edge[0]\n",
    "    board_height = y2-y1-2*dist_from_edge[1]\n",
    "    horizontal_interval = board_width / 12\n",
    "    vertical_interval = board_height / 14\n",
    "    img_circle = img.copy()\n",
    "    \n",
    "    # relate matrix coordinate to real peg coordinate\n",
    "    for i in range(0,13):\n",
    "        for j in range(0,15):\n",
    "            matrixcoor_to_realcoor[i,j] = np.array([x1 + int(horizontal_interval * i + dist_from_edge[0]), y1 + int(vertical_interval * j + dist_from_edge[1])])\n",
    "    \n",
    "    for key in matrixcoor_to_realcoor:\n",
    "        cv2.circle(img_circle, matrixcoor_to_realcoor[key], 2, (200, 200, 200), -1)\n",
    "    \n",
    "    return img_circle,matrixcoor_to_realcoor\n"
   ]
  },
  {
   "cell_type": "code",
   "execution_count": 68,
   "metadata": {},
   "outputs": [],
   "source": [
    "def draws_pegs_on_rotated_board(image,draw_edge=False):\n",
    "    boardBW = get_board_mask(image)\n",
    "    angle = whatAngle(boardBW)\n",
    "    boardBW_tilt = tilt(boardBW, angle) \n",
    "    image_tilt = tilt(image, angle) \n",
    "    cv2.imwrite('board_deskew.png',image_tilt)  \n",
    "            \n",
    "    #get the max edges of the board then draw edges and pegs on it\n",
    "    x1,x2,y1,y2 = get_edges(boardBW_tilt)\n",
    "    img_circle, matrixcoor_to_realcoor = get_pegs(image_tilt,x1,x2,y1,y2)\n",
    "    \n",
    "    if draw_edge:\n",
    "        cv2.rectangle(img_circle, (x1, y1), (x2, y2), (0, 255, 0), 3)\n",
    "    cv2.imwrite('board_with_pegs.png',img_circle)    \n",
    "    return matrixcoor_to_realcoor"
   ]
  },
  {
   "cell_type": "code",
   "execution_count": 87,
   "metadata": {},
   "outputs": [],
   "source": [
    "def round_to_integer_with_error(float_number, error_rate = 0.1, down = True):\n",
    "    if down:\n",
    "        lower_integer = int(float_number)\n",
    "\n",
    "        # Calculate the error between the float number and the lower integer\n",
    "        error = float_number - lower_integer\n",
    "\n",
    "        # Check if the error is within the custom error rate\n",
    "        if error <= error_rate:\n",
    "            return lower_integer - 1\n",
    "        else:\n",
    "            return lower_integer \n",
    "    else:\n",
    "        upper_integer = np.ceil(float_number).astype(int)\n",
    "\n",
    "        # Calculate the error between the float number and the upper integer\n",
    "        error = upper_integer - float_number\n",
    "\n",
    "        # Check if the error is within the custom error rate\n",
    "        if error <= error_rate:\n",
    "            return upper_integer + 1\n",
    "        else:\n",
    "            return upper_integer\n",
    "        "
   ]
  },
  {
   "cell_type": "code",
   "execution_count": 114,
   "metadata": {},
   "outputs": [],
   "source": [
    "def matrix_class_mapping(results,matrixcoor_to_realcoor):\n",
    "    x0,y0 = matrixcoor_to_realcoor[(0,14)]\n",
    "    matrix = np.zeros((15, 13))-1\n",
    "\n",
    "    for r in results:\n",
    "        x1,y1,x2,y2,class_id = r\n",
    "        grid_x1 = round_to_integer_with_error(((x1-x0) / x_len) * 12,down=False)\n",
    "        grid_y1 = round_to_integer_with_error(((y1-y0) / y_len) * 14,down=False)\n",
    "        grid_x2 = round_to_integer_with_error(((x2-x0) / x_len) * 12)\n",
    "        grid_y2 = round_to_integer_with_error(((y2-y0) / y_len) * 14)\n",
    "\n",
    "        grid_x1 = max(0, min(grid_x1, 12 - 1))\n",
    "        grid_y1 = max(0, min(grid_y1, 14 - 1))\n",
    "        grid_x2 = max(0, min(grid_x2, 12 - 1))\n",
    "        grid_y2 = max(0, min(grid_y2, 14 - 1))\n",
    "\n",
    "        matrix[grid_x1:grid_x2+1,grid_y1:grid_y2+1]=class_id\n",
    "    return matrix"
   ]
  },
  {
   "cell_type": "code",
   "execution_count": 125,
   "metadata": {},
   "outputs": [],
   "source": [
    "color_mapping = {\n",
    "    0: 'red',\n",
    "    1: 'green',\n",
    "    2: 'blue',\n",
    "    3: 'yellow',\n",
    "    4: 'orange',\n",
    "    5: 'tal',\n",
    "    6: 'cyan',\n",
    "    7: 'magenta',\n",
    "    8: 'brown',\n",
    "    9: 'pink',\n",
    "    10: 'gray',\n",
    "    11: 'lime',\n",
    "    12: 'purple',\n",
    "    13: 'olive'\n",
    "}"
   ]
  },
  {
   "cell_type": "code",
   "execution_count": 138,
   "metadata": {},
   "outputs": [],
   "source": [
    "def show_estimated_board(results_transferred,color_mapping=color_mapping,rows = 15,cols = 13,cell_size = 50):\n",
    "    \"\"\"Draw the virtual image of the board\n",
    "\n",
    "    Args:\n",
    "        results_transferred (matrix): a matrix to store class of each block of the board\n",
    "        rows (int, optional): number of rows of the grid. Defaults to 8.\n",
    "        cols (int, optional): number of columns of the grid. Defaults to 7.\n",
    "        cell_size (int, optional): size of cell. Defaults to 50.\n",
    "    \"\"\"\n",
    "\n",
    "    # Calculate the total size of the image\n",
    "    image_width = cols * cell_size\n",
    "    image_height = rows * cell_size\n",
    "\n",
    "    # Create a new image with a black background\n",
    "    image = Image.new(\"RGB\", (image_width, image_height), color=\"black\")\n",
    "\n",
    "    # Create a draw object\n",
    "    draw = ImageDraw.Draw(image)\n",
    "\n",
    "\n",
    "    # Draw the grid with numbers\n",
    "    for row in range(rows):\n",
    "        for col in range(cols):\n",
    "            # Calculate the position of the top-left corner of the cell\n",
    "            x1 = col * cell_size\n",
    "            y1 = row * cell_size\n",
    "\n",
    "            # Calculate the position of the bottom-right corner of the cell\n",
    "            x2 = x1 + cell_size\n",
    "            y2 = y1 + cell_size\n",
    "\n",
    "            # Calculate the number for each cell (you can use any logic here)\n",
    "            cell_number = results_transferred[row][col]\n",
    "\n",
    "            # Draw the cell with the corresponding number\n",
    "            if cell_number >= 0:\n",
    "                draw.rectangle([x1, y1, x2, y2], fill=color_mapping[cell_number],outline='white')\n",
    "            else:\n",
    "                draw.rectangle([x1, y1, x2, y2], fill=\"black\",outline='white')\n",
    "            draw.text((x1 + 20, y1 + 20), str(cell_number),  fill=\"white\")\n",
    "\n",
    "    # Save the image to a file\n",
    "    image.save(\"grid_image_with_numbers.png\")\n",
    "\n",
    "    # Alternatively, display the image using the default image viewer\n",
    "    image.show()"
   ]
  },
  {
   "cell_type": "markdown",
   "metadata": {},
   "source": [
    "Implement on data:"
   ]
  },
  {
   "cell_type": "code",
   "execution_count": 139,
   "metadata": {},
   "outputs": [
    {
     "name": "stderr",
     "output_type": "stream",
     "text": [
      "\n",
      "0: 672x800 1 battery, 1 led, 1 switch, 1 wire, 191.6ms\n",
      "Speed: 2.4ms preprocess, 191.6ms inference, 0.8ms postprocess per image at shape (1, 3, 672, 800)\n"
     ]
    },
    {
     "name": "stdout",
     "output_type": "stream",
     "text": [
      "[[     410.51       400.1      512.54      433.76           6]\n",
      " [     378.52      300.33      421.71      433.56          12]\n",
      " [     386.56      228.59      515.62      337.34           0]\n",
      " [     485.28      305.27       514.6      427.49          13]]\n"
     ]
    }
   ],
   "source": [
    "# Replace 'image_path.jpg' with the actual path to your image file\n",
    "image_path = 'raw10.png'\n",
    "\n",
    "# Read the image using cv2.imread()\n",
    "image = cv2.imread(image_path)\n",
    "\n",
    "# implementation\n",
    "matrixcoor_to_realcoor = draws_pegs_on_rotated_board(image)\n",
    "\n",
    "model = YOLO('best (5).pt')\n",
    "image = cv2.imread('board_deskew.png')\n",
    "results = model.predict(image)\n",
    "\n",
    "for result in results:\n",
    "        boxes = result.boxes\n",
    "        #print(np.shape(boxes.xyxy),np.shape(boxes.cls[:,np.newaxis]))\n",
    "        output = np.hstack([boxes.xyxy,boxes.cls[:,np.newaxis]])\n",
    "        print(output)\n",
    "        #print([names[i] for i in boxes.cls.tolist()])\n",
    "\n",
    "# implement show_estimated_board\n",
    "matrix = matrix_class_mapping(output,matrixcoor_to_realcoor)\n",
    "\n",
    "show_estimated_board(matrix)"
   ]
  }
 ],
 "metadata": {
  "kernelspec": {
   "display_name": "Python 3.11.1 64-bit",
   "language": "python",
   "name": "python3"
  },
  "language_info": {
   "codemirror_mode": {
    "name": "ipython",
    "version": 3
   },
   "file_extension": ".py",
   "mimetype": "text/x-python",
   "name": "python",
   "nbconvert_exporter": "python",
   "pygments_lexer": "ipython3",
   "version": "3.11.1"
  },
  "orig_nbformat": 4,
  "vscode": {
   "interpreter": {
    "hash": "5c7b89af1651d0b8571dde13640ecdccf7d5a6204171d6ab33e7c296e100e08a"
   }
  }
 },
 "nbformat": 4,
 "nbformat_minor": 2
}
