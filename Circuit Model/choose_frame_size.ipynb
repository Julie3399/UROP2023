{
 "cells": [
  {
   "cell_type": "code",
   "execution_count": null,
   "metadata": {},
   "outputs": [],
   "source": [
    "import cv2\n",
    "import os\n",
    "\n",
    "def crop_frame(video_path, x, y, width, height):\n",
    "    # Open the video file\n",
    "    cap = cv2.VideoCapture(video_path)\n",
    "\n",
    "    # Check if the video was opened successfully\n",
    "    if not cap.isOpened():\n",
    "        print(\"Error: Could not open the video.\")\n",
    "        return\n",
    "\n",
    "    # Read the video properties to get the frame width and height\n",
    "    frame_width = int(cap.get(cv2.CAP_PROP_FRAME_WIDTH))\n",
    "    frame_height = int(cap.get(cv2.CAP_PROP_FRAME_HEIGHT))\n",
    "\n",
    "    # Verify if the specified crop coordinates are within the frame size\n",
    "    if x + width > frame_width or y + height > frame_height:\n",
    "        print(\"Error: The specified crop area is out of bounds.\")\n",
    "        return\n",
    "\n",
    "    # Create a VideoWriter to save the cropped video\n",
    "    fourcc = cv2.VideoWriter_fourcc(*'XVID')\n",
    "    out = cv2.VideoWriter('cropped_output.avi', fourcc, 20.0, (width, height))\n",
    "\n",
    "    # Create a directory to store the cropped frames\n",
    "    if not os.path.exists('cropped_frames'):\n",
    "        os.makedirs('cropped_frames')\n",
    "\n",
    "    # Get the list of existing files in the \"cropped_frames\" directory\n",
    "    existing_files = os.listdir('cropped_frames')\n",
    "\n",
    "    # Find the highest frame count among the existing files\n",
    "    if existing_files:\n",
    "        frame_count = max([int(file_name.split('_')[2].split('.')[0]) for file_name in existing_files]) + 1\n",
    "    else:\n",
    "        frame_count = 0\n",
    "\n",
    "    # Read and crop the video frames\n",
    "    while True:\n",
    "        ret, frame = cap.read()\n",
    "        if not ret:\n",
    "            print(\"Failed\")\n",
    "            break\n",
    "\n",
    "        # Crop the frame based on the specified coordinates and dimensions\n",
    "        cropped_frame = frame[y:y + height, x:x + width]\n",
    "\n",
    "        # Display the cropped frame (you can do further processing here)\n",
    "        cv2.imshow('Cropped Frame', cropped_frame)\n",
    "\n",
    "        # Save the current cropped frame when 'c' is pressed\n",
    "        key = cv2.waitKey(1)\n",
    "        if key & 0xFF == ord('c'):\n",
    "            cv2.imwrite(f'cropped_frames/cropped_frame_{frame_count}.jpg', cropped_frame)\n",
    "            frame_count += 1\n",
    "\n",
    "        # Write the cropped frame to the output video file\n",
    "        out.write(cropped_frame)\n",
    "\n",
    "        # Press 'q' to exit the video playback\n",
    "        if key & 0xFF == ord('q'):\n",
    "            break\n",
    "\n",
    "    # Release the video capture and writer, and close all windows\n",
    "    cap.release()\n",
    "    out.release()\n",
    "    cv2.destroyAllWindows()\n",
    "\n",
    "\n",
    "video_path =  0 #'IMG_1040.mp4' # Replace with the path to your video file\n",
    "crop_x = 850  # Starting x-coordinate of the crop area\n",
    "crop_y = 250   # Starting y-coordinate of the crop area\n",
    "crop_width = 400  # Width of the crop area\n",
    "crop_height = 500  # Height of the crop area\n",
    "\n",
    "crop_frame(video_path, crop_x, crop_y, crop_width, crop_height)"
   ]
  },
  {
   "cell_type": "code",
   "execution_count": null,
   "metadata": {},
   "outputs": [],
   "source": [
    "from ultralytics import YOLO\n",
    "\n",
    "frame_count = 0\n",
    "model = YOLO('best (5).pt')\n",
    "model.predict(source='cropped_output.avi',show=True,conf=0.2)"
   ]
  }
 ],
 "metadata": {
  "kernelspec": {
   "display_name": "Python 3.10.9 64-bit",
   "language": "python",
   "name": "python3"
  },
  "language_info": {
   "codemirror_mode": {
    "name": "ipython",
    "version": 3
   },
   "file_extension": ".py",
   "mimetype": "text/x-python",
   "name": "python",
   "nbconvert_exporter": "python",
   "pygments_lexer": "ipython3",
   "version": "3.11.4"
  },
  "orig_nbformat": 4,
  "vscode": {
   "interpreter": {
    "hash": "b0fa6594d8f4cbf19f97940f81e996739fb7646882a419484c72d19e05852a7e"
   }
  }
 },
 "nbformat": 4,
 "nbformat_minor": 2
}
