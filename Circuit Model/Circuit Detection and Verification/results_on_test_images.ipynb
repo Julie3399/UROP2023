{
 "cells": [
  {
   "cell_type": "markdown",
   "metadata": {},
   "source": [
    "|     Task     | Positive Case | Test Image Used |            Negative Cases             |                                        Video                                         |\n",
    "| ------------ | ------------- | --------------- | ------------------------------------- | ------------------------------------------------------------------------------------- |\n",
    "| Task 1 sw_la |     ✅         | cropped_frame_19 |                                       | raw_video_45: positive case, piece_added one at a time                             |\n",
    "| Task 2 bu_la |     ✅        | cropped_frame_20 |                                       |                                                                                     |\n",
    "| Task 3 re_la |     ✅         | cropped_frame_21 |                                       |                                                                                     |\n",
    "| Task 4 sw_mo |     ✅         | cropped_frame_25 cropped_frame_29 |                               |                                                                                     |\n",
    "| Task 5 bu_mo |     ✅         | cropped_frame_26 cropped_frame_30 |                               | raw_video_60                                                                        |\n",
    "| Task 6 re_mo |     ✅         | cropped_frame_27 cropped_frame_28 |                               |                                                                                     |\n",
    "| Task 7 mo    | ✅ (correct, not tested) |               |                                       |                                                                                     |\n",
    "| Task 8 sw_le |     ✅         | cropped_frame_90 | cropped_frame_91: direction 0        |                                                                                     |\n",
    "| Task 9 le    | ✅ (correct, not tested) |               |                                       |                                                                                     |\n",
    "| Task 10 mc_sp | ✅ (correct, not tested) |              |                                       |                                                                                     |\n",
    "| Task 11 mc_sp_sw | ✅ | cropped_frame_112 | cropped_frame_113: mc 0, power 0 cropped_frame_117: signal 0 |                     |\n",
    "| Task 12 mc_sp_bu | ✅ (correct, not tested) |          |                                       |                                                                                     |\n",
    "| Task 13 mc_sp_re | ✅ (correct, not tested) |          |                                       |                                                                                     |\n",
    "| Task 14 mc_le | ✅ (correct, not tested) |            |                                       |                                                                                     |\n",
    "| Task 15 mc_le_sw | จ | cropped_frame_124 | cropped_frame_125: direction 0 |                                                       |\n",
    "| Task 16 mc_le_bu | ✅ (correct, not tested) |        |                                       |                                                                                     |\n",
    "| Task 17 mc_le_re | ✅ (correct, not tested) |        |                                       |                                                                                     |\n",
    "| Task 18 fm_sp | ✅ (correct, not tested) |            |                                       |                                                                                     |\n",
    "| Task 19 fm_sp_sw | ✅ | cropped_frame_142 | cropped_frame_143: signal 0 cropped_frame_144: power 0 |                             |\n",
    "| Task 20 fm_sp_bu | ✅ (correct, not tested) |        |                                       |                                                                                     |\n",
    "| Task 21 fm_buz | ✅ | cropped_frame_154 | cropped_frame_156: signal 0 cropped_frame_157: signal 0 |                         |\n",
    "| Task 22 fm_buz_sw | ✅ (correct, not tested) |    |                                       |                                                                                     |\n",
    "| Task 23 fm_buz_bu | ✅ (correct, not tested) |  |                                       |                                                                                     |\n",
    "| Task 24 and_sw_bu_le | ✅ | cropped_frame_158 | cropped_frame_161: direction 0 raw_video_39: direction 0 and hand on board |   |\n",
    "| Task 25 or_sw_bu_le | ✅ | cropped_frame_159 | cropped_frame_160: direction 0 |                                                         |\n",
    "| Task 26 sw_not_le |               |                 |                                       |                                                                                     |\n",
    "| Task 27 and_sw_bu_la | ✅ | cropped_frame_133 |                                       |                                                                                     |\n",
    "| Task 28 or_sw_bu_la | ✅ | cropped_frame_141 | cropped_frame_139: lamp 0 |                                                             |\n",
    "| Task 29 sw not la |      Not possible (Cannot test the directionality of LED is parallel circuits)         |               |                                       |                                                                                     |\n"
   ]
  }
 ],
 "metadata": {
  "language_info": {
   "name": "python"
  },
  "orig_nbformat": 4
 },
 "nbformat": 4,
 "nbformat_minor": 2
}
